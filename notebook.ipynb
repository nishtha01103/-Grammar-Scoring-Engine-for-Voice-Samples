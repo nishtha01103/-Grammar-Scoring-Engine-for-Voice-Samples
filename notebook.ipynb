{
 "cells": [
  {
   "cell_type": "code",
   "execution_count": 1,
   "id": "346b1faf",
   "metadata": {
    "execution": {
     "iopub.execute_input": "2025-04-05T12:28:58.194441Z",
     "iopub.status.busy": "2025-04-05T12:28:58.193962Z",
     "iopub.status.idle": "2025-04-05T12:28:59.248661Z",
     "shell.execute_reply": "2025-04-05T12:28:59.247367Z"
    },
    "papermill": {
     "duration": 1.061482,
     "end_time": "2025-04-05T12:28:59.250518",
     "exception": false,
     "start_time": "2025-04-05T12:28:58.189036",
     "status": "completed"
    },
    "tags": []
   },
   "outputs": [
    {
     "name": "stdout",
     "output_type": "stream",
     "text": [
      "Training Data:\n",
      "         filename  label\n",
      "0  audio_1261.wav    1.0\n",
      "1   audio_942.wav    1.5\n",
      "2  audio_1110.wav    1.5\n",
      "3  audio_1024.wav    1.5\n",
      "4   audio_538.wav    2.0\n",
      "\n",
      "Testing Data:\n",
      "         filename\n",
      "0   audio_706.wav\n",
      "1   audio_800.wav\n",
      "2    audio_68.wav\n",
      "3  audio_1267.wav\n",
      "4   audio_683.wav\n"
     ]
    }
   ],
   "source": [
    "import pandas as pd\n",
    "import numpy as np\n",
    "# Load train.csv, test.csv, sample_submission.csv\n",
    "train_df = pd.read_csv('/kaggle/input/grammar-scoring-engine-data/train.csv')\n",
    "test_df = pd.read_csv('/kaggle/input/grammar-scoring-engine-data/test.csv')\n",
    "\n",
    "# Display first few rows of training data\n",
    "print(\"Training Data:\")\n",
    "print(train_df.head())\n",
    "\n",
    "print(\"\\nTesting Data:\")\n",
    "print(test_df.head())\n"
   ]
  },
  {
   "cell_type": "code",
   "execution_count": 2,
   "id": "71dc90b9",
   "metadata": {
    "execution": {
     "iopub.execute_input": "2025-04-05T12:28:59.259724Z",
     "iopub.status.busy": "2025-04-05T12:28:59.259281Z",
     "iopub.status.idle": "2025-04-05T12:28:59.279999Z",
     "shell.execute_reply": "2025-04-05T12:28:59.278447Z"
    },
    "papermill": {
     "duration": 0.027147,
     "end_time": "2025-04-05T12:28:59.282174",
     "exception": false,
     "start_time": "2025-04-05T12:28:59.255027",
     "status": "completed"
    },
    "tags": []
   },
   "outputs": [
    {
     "name": "stdout",
     "output_type": "stream",
     "text": [
      "Files in audios_train: ['audio_90.wav', 'audio_581.wav', 'audio_77.wav', 'audio_817.wav', 'audio_694.wav']\n"
     ]
    }
   ],
   "source": [
    "\n",
    "\n",
    "import os\n",
    "print(\"Files in audios_train:\", os.listdir('/kaggle/input/grammar-scoring-engine-data/audios_train/audios_train')[:5])\n",
    "\n"
   ]
  },
  {
   "cell_type": "code",
   "execution_count": 3,
   "id": "244507ca",
   "metadata": {
    "execution": {
     "iopub.execute_input": "2025-04-05T12:28:59.290624Z",
     "iopub.status.busy": "2025-04-05T12:28:59.290233Z",
     "iopub.status.idle": "2025-04-05T12:29:17.213701Z",
     "shell.execute_reply": "2025-04-05T12:29:17.212359Z"
    },
    "papermill": {
     "duration": 17.929798,
     "end_time": "2025-04-05T12:29:17.215684",
     "exception": false,
     "start_time": "2025-04-05T12:28:59.285886",
     "status": "completed"
    },
    "tags": []
   },
   "outputs": [
    {
     "name": "stdout",
     "output_type": "stream",
     "text": [
      "Audio Data Shape: (961195,), Sample Rate: 16000\n"
     ]
    }
   ],
   "source": [
    "import librosa\n",
    "\n",
    "# Replace <your-dataset-name> with your actual dataset name\n",
    "audio_folder_train = '/kaggle/input/grammar-scoring-engine-data/audios_train/audios_train'\n",
    "audio_folder_test = '/kaggle/input/grammar-scoring-engine-data/audios_test/audios_test'\n",
    "\n",
    "# Test loading one file from audios_train folder\n",
    "sample_file = train_df['filename'][0]  # Get the first filename from train.csv\n",
    "file_path = f\"{audio_folder_train}/{sample_file}\"  # Construct full path\n",
    "\n",
    "y, sr = librosa.load(file_path, sr=None)  # Load audio file\n",
    "print(f\"Audio Data Shape: {y.shape}, Sample Rate: {sr}\")\n"
   ]
  },
  {
   "cell_type": "code",
   "execution_count": 4,
   "id": "3b166499",
   "metadata": {
    "execution": {
     "iopub.execute_input": "2025-04-05T12:29:17.224107Z",
     "iopub.status.busy": "2025-04-05T12:29:17.223579Z",
     "iopub.status.idle": "2025-04-05T12:29:18.938595Z",
     "shell.execute_reply": "2025-04-05T12:29:18.937343Z"
    },
    "papermill": {
     "duration": 1.721211,
     "end_time": "2025-04-05T12:29:18.940453",
     "exception": false,
     "start_time": "2025-04-05T12:29:17.219242",
     "status": "completed"
    },
    "tags": []
   },
   "outputs": [
    {
     "name": "stdout",
     "output_type": "stream",
     "text": [
      "[-4.85992737e+02  5.01118202e+01  8.83724403e+00  9.50042725e+00\n",
      "  1.97322249e+00  2.53396702e+00 -6.81178331e+00  1.58786070e+00\n",
      " -4.82894659e+00 -3.56634855e+00 -2.68059754e+00 -2.68372083e+00\n",
      " -2.37648869e+00  1.66957662e+01  1.43506281e+01  1.73590302e+01\n",
      "  1.76306172e+01  1.85835737e+01  1.80754630e+01  1.66759818e+01\n",
      "  4.58705336e-01  4.11259532e-01  4.10763681e-01  3.85070354e-01\n",
      "  3.66578519e-01  3.65796775e-01  3.86049747e-01  4.31676388e-01\n",
      "  4.88134086e-01  4.50937092e-01  3.95509005e-01  4.19360310e-01]\n"
     ]
    }
   ],
   "source": [
    "def extract_features(file_name, folder):\n",
    "    file_path = f\"{folder}/{file_name}\"\n",
    "    y, sr = librosa.load(file_path, sr=None)\n",
    "    \n",
    "    # MFCCs\n",
    "    mfccs = librosa.feature.mfcc(y=y, sr=sr, n_mfcc=13).mean(axis=1)\n",
    "    \n",
    "    # Spectral Contrast\n",
    "    spectral_contrast = librosa.feature.spectral_contrast(y=y, sr=sr).mean(axis=1)\n",
    "    \n",
    "    # Chroma Features\n",
    "    chroma = librosa.feature.chroma_stft(y=y, sr=sr).mean(axis=1)\n",
    "    \n",
    "    # Combine features into one array\n",
    "    return np.concatenate([mfccs, spectral_contrast, chroma])\n",
    "\n",
    "\n",
    "# Test feature extraction on one file from audios_train folder\n",
    "features = extract_features(sample_file, audio_folder_train)\n",
    "print(features)\n"
   ]
  },
  {
   "cell_type": "code",
   "execution_count": 5,
   "id": "84ec94d6",
   "metadata": {
    "execution": {
     "iopub.execute_input": "2025-04-05T12:29:18.949031Z",
     "iopub.status.busy": "2025-04-05T12:29:18.948420Z",
     "iopub.status.idle": "2025-04-05T12:33:42.014386Z",
     "shell.execute_reply": "2025-04-05T12:33:42.013260Z"
    },
    "papermill": {
     "duration": 263.07575,
     "end_time": "2025-04-05T12:33:42.019775",
     "exception": false,
     "start_time": "2025-04-05T12:29:18.944025",
     "status": "completed"
    },
    "tags": []
   },
   "outputs": [
    {
     "name": "stdout",
     "output_type": "stream",
     "text": [
      "Training Features Shape: (444, 32), Training Labels Shape: (444,)\n",
      "Testing Features Shape: (195, 32)\n"
     ]
    }
   ],
   "source": [
    "\n",
    "\n",
    "import numpy as np\n",
    "\n",
    "def process_dataset(df, folder):\n",
    "    feature_list = []\n",
    "    for file_name in df['filename']:\n",
    "        features = extract_features(file_name, folder)\n",
    "        feature_list.append(features)\n",
    "    return np.array(feature_list)\n",
    "\n",
    "# Define paths to audios_train and audios_test folders\n",
    "audio_folder_train = '/kaggle/input/grammar-scoring-engine-data/audios_train/audios_train'\n",
    "audio_folder_test = '/kaggle/input/grammar-scoring-engine-data/audios_test/audios_test'\n",
    "\n",
    "X_train = process_dataset(train_df, audio_folder_train)\n",
    "y_train = train_df['label'].values\n",
    "\n",
    "X_test = process_dataset(test_df, audio_folder_test)\n",
    "\n",
    "print(f\"Training Features Shape: {X_train.shape}, Training Labels Shape: {y_train.shape}\")\n",
    "print(f\"Testing Features Shape: {X_test.shape}\")\n",
    "\n"
   ]
  },
  {
   "cell_type": "code",
   "execution_count": 6,
   "id": "0f8a4bb3",
   "metadata": {
    "execution": {
     "iopub.execute_input": "2025-04-05T12:33:42.028039Z",
     "iopub.status.busy": "2025-04-05T12:33:42.027686Z",
     "iopub.status.idle": "2025-04-05T12:33:42.177703Z",
     "shell.execute_reply": "2025-04-05T12:33:42.176767Z"
    },
    "papermill": {
     "duration": 0.156257,
     "end_time": "2025-04-05T12:33:42.179674",
     "exception": false,
     "start_time": "2025-04-05T12:33:42.023417",
     "status": "completed"
    },
    "tags": []
   },
   "outputs": [],
   "source": [
    "from sklearn.preprocessing import StandardScaler\n",
    "\n",
    "scaler = StandardScaler()\n",
    "X_train = scaler.fit_transform(X_train)\n",
    "X_test = scaler.transform(X_test)\n"
   ]
  },
  {
   "cell_type": "code",
   "execution_count": 7,
   "id": "f52cd04d",
   "metadata": {
    "execution": {
     "iopub.execute_input": "2025-04-05T12:33:42.187845Z",
     "iopub.status.busy": "2025-04-05T12:33:42.187526Z",
     "iopub.status.idle": "2025-04-05T12:33:43.718287Z",
     "shell.execute_reply": "2025-04-05T12:33:43.717009Z"
    },
    "papermill": {
     "duration": 1.536828,
     "end_time": "2025-04-05T12:33:43.720143",
     "exception": false,
     "start_time": "2025-04-05T12:33:42.183315",
     "status": "completed"
    },
    "tags": []
   },
   "outputs": [
    {
     "data": {
      "text/html": [
       "<style>#sk-container-id-1 {color: black;background-color: white;}#sk-container-id-1 pre{padding: 0;}#sk-container-id-1 div.sk-toggleable {background-color: white;}#sk-container-id-1 label.sk-toggleable__label {cursor: pointer;display: block;width: 100%;margin-bottom: 0;padding: 0.3em;box-sizing: border-box;text-align: center;}#sk-container-id-1 label.sk-toggleable__label-arrow:before {content: \"▸\";float: left;margin-right: 0.25em;color: #696969;}#sk-container-id-1 label.sk-toggleable__label-arrow:hover:before {color: black;}#sk-container-id-1 div.sk-estimator:hover label.sk-toggleable__label-arrow:before {color: black;}#sk-container-id-1 div.sk-toggleable__content {max-height: 0;max-width: 0;overflow: hidden;text-align: left;background-color: #f0f8ff;}#sk-container-id-1 div.sk-toggleable__content pre {margin: 0.2em;color: black;border-radius: 0.25em;background-color: #f0f8ff;}#sk-container-id-1 input.sk-toggleable__control:checked~div.sk-toggleable__content {max-height: 200px;max-width: 100%;overflow: auto;}#sk-container-id-1 input.sk-toggleable__control:checked~label.sk-toggleable__label-arrow:before {content: \"▾\";}#sk-container-id-1 div.sk-estimator input.sk-toggleable__control:checked~label.sk-toggleable__label {background-color: #d4ebff;}#sk-container-id-1 div.sk-label input.sk-toggleable__control:checked~label.sk-toggleable__label {background-color: #d4ebff;}#sk-container-id-1 input.sk-hidden--visually {border: 0;clip: rect(1px 1px 1px 1px);clip: rect(1px, 1px, 1px, 1px);height: 1px;margin: -1px;overflow: hidden;padding: 0;position: absolute;width: 1px;}#sk-container-id-1 div.sk-estimator {font-family: monospace;background-color: #f0f8ff;border: 1px dotted black;border-radius: 0.25em;box-sizing: border-box;margin-bottom: 0.5em;}#sk-container-id-1 div.sk-estimator:hover {background-color: #d4ebff;}#sk-container-id-1 div.sk-parallel-item::after {content: \"\";width: 100%;border-bottom: 1px solid gray;flex-grow: 1;}#sk-container-id-1 div.sk-label:hover label.sk-toggleable__label {background-color: #d4ebff;}#sk-container-id-1 div.sk-serial::before {content: \"\";position: absolute;border-left: 1px solid gray;box-sizing: border-box;top: 0;bottom: 0;left: 50%;z-index: 0;}#sk-container-id-1 div.sk-serial {display: flex;flex-direction: column;align-items: center;background-color: white;padding-right: 0.2em;padding-left: 0.2em;position: relative;}#sk-container-id-1 div.sk-item {position: relative;z-index: 1;}#sk-container-id-1 div.sk-parallel {display: flex;align-items: stretch;justify-content: center;background-color: white;position: relative;}#sk-container-id-1 div.sk-item::before, #sk-container-id-1 div.sk-parallel-item::before {content: \"\";position: absolute;border-left: 1px solid gray;box-sizing: border-box;top: 0;bottom: 0;left: 50%;z-index: -1;}#sk-container-id-1 div.sk-parallel-item {display: flex;flex-direction: column;z-index: 1;position: relative;background-color: white;}#sk-container-id-1 div.sk-parallel-item:first-child::after {align-self: flex-end;width: 50%;}#sk-container-id-1 div.sk-parallel-item:last-child::after {align-self: flex-start;width: 50%;}#sk-container-id-1 div.sk-parallel-item:only-child::after {width: 0;}#sk-container-id-1 div.sk-dashed-wrapped {border: 1px dashed gray;margin: 0 0.4em 0.5em 0.4em;box-sizing: border-box;padding-bottom: 0.4em;background-color: white;}#sk-container-id-1 div.sk-label label {font-family: monospace;font-weight: bold;display: inline-block;line-height: 1.2em;}#sk-container-id-1 div.sk-label-container {text-align: center;}#sk-container-id-1 div.sk-container {/* jupyter's `normalize.less` sets `[hidden] { display: none; }` but bootstrap.min.css set `[hidden] { display: none !important; }` so we also need the `!important` here to be able to override the default hidden behavior on the sphinx rendered scikit-learn.org. See: https://github.com/scikit-learn/scikit-learn/issues/21755 */display: inline-block !important;position: relative;}#sk-container-id-1 div.sk-text-repr-fallback {display: none;}</style><div id=\"sk-container-id-1\" class=\"sk-top-container\"><div class=\"sk-text-repr-fallback\"><pre>RandomForestRegressor(random_state=42)</pre><b>In a Jupyter environment, please rerun this cell to show the HTML representation or trust the notebook. <br />On GitHub, the HTML representation is unable to render, please try loading this page with nbviewer.org.</b></div><div class=\"sk-container\" hidden><div class=\"sk-item\"><div class=\"sk-estimator sk-toggleable\"><input class=\"sk-toggleable__control sk-hidden--visually\" id=\"sk-estimator-id-1\" type=\"checkbox\" checked><label for=\"sk-estimator-id-1\" class=\"sk-toggleable__label sk-toggleable__label-arrow\">RandomForestRegressor</label><div class=\"sk-toggleable__content\"><pre>RandomForestRegressor(random_state=42)</pre></div></div></div></div></div>"
      ],
      "text/plain": [
       "RandomForestRegressor(random_state=42)"
      ]
     },
     "execution_count": 7,
     "metadata": {},
     "output_type": "execute_result"
    }
   ],
   "source": [
    "from sklearn.ensemble import RandomForestRegressor\n",
    "\n",
    "rf_model = RandomForestRegressor(n_estimators=100, random_state=42)\n",
    "rf_model.fit(X_train, y_train)\n",
    "\n"
   ]
  },
  {
   "cell_type": "code",
   "execution_count": 8,
   "id": "b43967cf",
   "metadata": {
    "execution": {
     "iopub.execute_input": "2025-04-05T12:33:43.728784Z",
     "iopub.status.busy": "2025-04-05T12:33:43.728448Z",
     "iopub.status.idle": "2025-04-05T12:33:44.387214Z",
     "shell.execute_reply": "2025-04-05T12:33:44.386016Z"
    },
    "papermill": {
     "duration": 0.665164,
     "end_time": "2025-04-05T12:33:44.389135",
     "exception": false,
     "start_time": "2025-04-05T12:33:43.723971",
     "status": "completed"
    },
    "tags": []
   },
   "outputs": [
    {
     "name": "stdout",
     "output_type": "stream",
     "text": [
      "Validation MAE: 0.7914606741573034\n"
     ]
    }
   ],
   "source": [
    "from sklearn.model_selection import train_test_split\n",
    "from sklearn.metrics import mean_absolute_error\n",
    "\n",
    "X_train_split, X_val, y_train_split, y_val = train_test_split(X_train, y_train, test_size=0.2, random_state=42)\n",
    "\n",
    "rf_model.fit(X_train_split, y_train_split)\n",
    "\n",
    "val_predictions = rf_model.predict(X_val)\n",
    "val_mae = mean_absolute_error(y_val, val_predictions)\n",
    "\n",
    "print(f\"Validation MAE: {val_mae}\")\n",
    "\n",
    "\n"
   ]
  },
  {
   "cell_type": "code",
   "execution_count": 9,
   "id": "fd0b7117",
   "metadata": {
    "execution": {
     "iopub.execute_input": "2025-04-05T12:33:44.398205Z",
     "iopub.status.busy": "2025-04-05T12:33:44.397836Z",
     "iopub.status.idle": "2025-04-05T12:33:44.715909Z",
     "shell.execute_reply": "2025-04-05T12:33:44.714716Z"
    },
    "papermill": {
     "duration": 0.32475,
     "end_time": "2025-04-05T12:33:44.717790",
     "exception": false,
     "start_time": "2025-04-05T12:33:44.393040",
     "status": "completed"
    },
    "tags": []
   },
   "outputs": [
    {
     "data": {
      "image/png": "[encoded data removed]",
      "text/plain": [
       "<Figure size 640x480 with 1 Axes>"
      ]
     },
     "metadata": {},
     "output_type": "display_data"
    }
   ],
   "source": [
    "import matplotlib.pyplot as plt\n",
    "plt.scatter(y_val, val_predictions, alpha=0.5)\n",
    "plt.plot([min(y_val), max(y_val)], [min(y_val), max(y_val)], '--', color='red')  # Reference line\n",
    "plt.title('Actual vs Predicted Grammar Scores')\n",
    "plt.xlabel('Actual Grammar Scores')\n",
    "plt.ylabel('Predicted Grammar Scores')\n",
    "plt.show()\n"
   ]
  },
  {
   "cell_type": "code",
   "execution_count": 10,
   "id": "2bd7ea0d",
   "metadata": {
    "execution": {
     "iopub.execute_input": "2025-04-05T12:33:44.728656Z",
     "iopub.status.busy": "2025-04-05T12:33:44.728268Z",
     "iopub.status.idle": "2025-04-05T12:33:44.753749Z",
     "shell.execute_reply": "2025-04-05T12:33:44.752428Z"
    },
    "papermill": {
     "duration": 0.032902,
     "end_time": "2025-04-05T12:33:44.755525",
     "exception": false,
     "start_time": "2025-04-05T12:33:44.722623",
     "status": "completed"
    },
    "tags": []
   },
   "outputs": [
    {
     "name": "stdout",
     "output_type": "stream",
     "text": [
      "Submission file created!\n"
     ]
    }
   ],
   "source": [
    "test_predictions = rf_model.predict(X_test)\n",
    "\n",
    "test_df['label'] = test_predictions\n",
    "\n",
    "submission_df = test_df[['filename', 'label']]\n",
    "submission_df.to_csv('/kaggle/working/submission.csv', index=False)\n",
    "\n",
    "print(\"Submission file created!\")\n",
    "\n"
   ]
  },
  {
   "cell_type": "code",
   "execution_count": 11,
   "id": "0e0bb6b4",
   "metadata": {
    "execution": {
     "iopub.execute_input": "2025-04-05T12:33:44.766583Z",
     "iopub.status.busy": "2025-04-05T12:33:44.766202Z",
     "iopub.status.idle": "2025-04-05T12:33:45.524995Z",
     "shell.execute_reply": "2025-04-05T12:33:45.523763Z"
    },
    "papermill": {
     "duration": 0.766404,
     "end_time": "2025-04-05T12:33:45.526917",
     "exception": false,
     "start_time": "2025-04-05T12:33:44.760513",
     "status": "completed"
    },
    "tags": []
   },
   "outputs": [
    {
     "name": "stderr",
     "output_type": "stream",
     "text": [
      "/usr/local/lib/python3.10/dist-packages/seaborn/_oldcore.py:1119: FutureWarning: use_inf_as_na option is deprecated and will be removed in a future version. Convert inf values to NaN before operating instead.\n",
      "  with pd.option_context('mode.use_inf_as_na', True):\n"
     ]
    },
    {
     "data": {
      "image/png": "[encoded data removed]",
      "text/plain": [
       "<Figure size 640x480 with 1 Axes>"
      ]
     },
     "metadata": {},
     "output_type": "display_data"
    }
   ],
   "source": [
    "import seaborn as sns\n",
    "import matplotlib.pyplot as plt\n",
    "\n",
    "sns.histplot(test_df['label'], bins=20)\n",
    "plt.title('Distribution of Predicted Grammar Scores')\n",
    "plt.xlabel('Predicted Grammar Score')\n",
    "plt.ylabel('Count')\n",
    "plt.show()\n",
    "\n"
   ]
  }
 ],
 "metadata": {
  "kaggle": {
   "accelerator": "none",
   "dataSources": [
    {
     "datasetId": 7055458,
     "sourceId": 11284537,
     "sourceType": "datasetVersion"
    }
   ],
   "dockerImageVersionId": 30918,
   "isGpuEnabled": false,
   "isInternetEnabled": true,
   "language": "python",
   "sourceType": "notebook"
  },
  "kernelspec": {
   "display_name": "Python 3",
   "language": "python",
   "name": "python3"
  },
  "language_info": {
   "codemirror_mode": {
    "name": "ipython",
    "version": 3
   },
   "file_extension": ".py",
   "mimetype": "text/x-python",
   "name": "python",
   "nbconvert_exporter": "python",
   "pygments_lexer": "ipython3",
   "version": "3.10.12"
  },
  "papermill": {
   "default_parameters": {},
   "duration": 291.516239,
   "end_time": "2025-04-05T12:33:46.755233",
   "environment_variables": {},
   "exception": null,
   "input_path": "__notebook__.ipynb",
   "output_path": "__notebook__.ipynb",
   "parameters": {},
   "start_time": "2025-04-05T12:28:55.238994",
   "version": "2.6.0"
  }
 },
 "nbformat": 4,
 "nbformat_minor": 5
}
